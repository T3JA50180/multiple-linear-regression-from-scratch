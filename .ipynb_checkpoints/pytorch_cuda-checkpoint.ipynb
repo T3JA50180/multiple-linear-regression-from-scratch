{
 "cells": [
  {
   "cell_type": "code",
   "execution_count": null,
   "id": "bf57c7be-9420-472b-bc8e-77cd3eb459c6",
   "metadata": {},
   "outputs": [],
   "source": [
    "import torch\n",
    "import numpy as np\n",
    "import pandas as pd\n",
    "import matplotlib.pyplot as plt\n",
    "\n",
    "from numba import jit\n",
    "from tqdm.auto import tqdm\n",
    "\n",
    "torch.set_default_device('cuda:0')"
   ]
  },
  {
   "cell_type": "code",
   "execution_count": null,
   "id": "00c51af4-dcfa-4c56-b8c2-957016600b6e",
   "metadata": {},
   "outputs": [],
   "source": [
    "df = pd.read_csv('Student_Performance.csv')\n",
    "df.head()"
   ]
  },
  {
   "cell_type": "code",
   "execution_count": null,
   "id": "4db964f0-e835-4941-b403-a07cfdf1263c",
   "metadata": {},
   "outputs": [],
   "source": [
    "def z_score_normalize(a):\n",
    "    mean = np.mean(a, axis=0)\n",
    "    std = np.std(a, axis=0)\n",
    "    return (a - mean) / std"
   ]
  },
  {
   "cell_type": "code",
   "execution_count": null,
   "id": "9e1a0c2b-950a-4972-83bc-ce8dbfcbe286",
   "metadata": {},
   "outputs": [],
   "source": [
    "df_np = z_score_normalize(df.to_numpy())\n",
    "\n",
    "X = df_np[:, :-1]\n",
    "y = df_np[:, -1]"
   ]
  },
  {
   "cell_type": "code",
   "execution_count": null,
   "id": "bd0fb7e1-2e75-4484-9460-fe78b7672e72",
   "metadata": {},
   "outputs": [],
   "source": [
    "fig, ax = plt.subplots(2, 3, figsize=(20, 10))\n",
    "ax = ax.flatten()\n",
    "\n",
    "for i, col in enumerate(df.columns[:-1]):\n",
    "    ax[i].set_xlabel(col)\n",
    "    ax[i].set_ylabel(df.columns[-1])\n",
    "    ax[i].scatter(X[:, i], y, s=7)\n",
    "\n",
    "fig.delaxes(ax[-1])"
   ]
  },
  {
   "cell_type": "code",
   "execution_count": null,
   "id": "b9a2aa26-7aed-4bc2-ae66-a0b3d55baa96",
   "metadata": {},
   "outputs": [],
   "source": [
    "msk = np.random.permutation(X.shape[0])\n",
    "m = torch.tensor(round(0.8 * X.shape[0]))\n",
    "n = X.shape[1]\n",
    "\n",
    "X = torch.as_tensor(X).to(dtype=torch.float32) # A copy is made, since it sits on gpu.\n",
    "y = torch.as_tensor(y).to(dtype=torch.float32)\n",
    "\n",
    "X_train = X[msk[:m]]\n",
    "y_train = y[msk[:m]]\n",
    "\n",
    "X_test = X[msk[m:]]\n",
    "y_test = y[msk[m:]]"
   ]
  },
  {
   "cell_type": "code",
   "execution_count": null,
   "id": "04216717-29f4-4e2d-80ad-e1103fe5dd9e",
   "metadata": {},
   "outputs": [],
   "source": [
    "@torch.jit.script\n",
    "def compute_gradient(X, y, w, b):\n",
    "    m = X.shape[0]\n",
    "    y_hat = w @ X.transpose(0, 1) + b\n",
    "    error = y_hat - y\n",
    "\n",
    "    dj_dw = (1 / m) * (error @ X)\n",
    "    dj_db = (1 / m) * torch.sum(error)\n",
    "\n",
    "    return dj_dw, dj_db"
   ]
  },
  {
   "cell_type": "code",
   "execution_count": null,
   "id": "df4d1ddf-60b6-434a-bf20-039c70db4813",
   "metadata": {},
   "outputs": [],
   "source": [
    "@torch.jit.script\n",
    "def compute_cost(X, y, w, b):\n",
    "    m = X.shape[0]\n",
    "    y_hat = w @ X.transpose(0, 1) + b\n",
    "    J = (1 / (2 * m)) * torch.sum((y_hat - y) ** 2)\n",
    "    return J"
   ]
  },
  {
   "cell_type": "code",
   "execution_count": null,
   "id": "2a706a0c-937c-457e-b785-7883f1be8902",
   "metadata": {},
   "outputs": [],
   "source": [
    "def gradient_descent(X, y, w, b, num_iters, alpha):\n",
    "    J_hist = []\n",
    "    \n",
    "    for i in tqdm(range(num_iters)):\n",
    "        dj_dw, dj_db = compute_gradient(X, y, w, b)\n",
    "        w -= alpha * dj_dw\n",
    "        b -= alpha * dj_db\n",
    "\n",
    "        J_hist.append(compute_cost(X, y, w, b))\n",
    "        if i % (num_iters // 10) == 0:\n",
    "            print(f'Iteration = {i:6}, Cost = {J_hist[-1]:.8f}')\n",
    "\n",
    "    return w, b, J_hist"
   ]
  },
  {
   "cell_type": "code",
   "execution_count": null,
   "id": "a49fe0b5-4351-4c57-8c5f-43f859e53d1c",
   "metadata": {},
   "outputs": [],
   "source": [
    "w = torch.zeros(n)\n",
    "b = torch.tensor(0, dtype=torch.float32)\n",
    "num_iters = 1000000\n",
    "alpha = 0.001\n",
    "\n",
    "w, b, J = gradient_descent(X_train, y_train, w, b, num_iters, alpha)"
   ]
  },
  {
   "cell_type": "code",
   "execution_count": null,
   "id": "4a0b2a68-8ec7-4f26-a9bd-7aeaa259771a",
   "metadata": {},
   "outputs": [],
   "source": [
    "fig, ax = plt.subplots()\n",
    "ax.plot(np.arange(0, len(J)), J)"
   ]
  },
  {
   "cell_type": "code",
   "execution_count": null,
   "id": "729a45f7-b9e4-48dd-a640-3402f992a358",
   "metadata": {},
   "outputs": [],
   "source": [
    "y_pred = np.dot(w, X_test.transpose())"
   ]
  },
  {
   "cell_type": "code",
   "execution_count": null,
   "id": "6ff2a860-e9db-4aa0-9c05-48df5aa13b8d",
   "metadata": {},
   "outputs": [],
   "source": [
    "fig, ax = plt.subplots(2, 3, figsize=(20, 10))\n",
    "ax = ax.flatten()\n",
    "\n",
    "for i, col in enumerate(df.columns[:-1]):\n",
    "    ax[i].set_xlabel(col)\n",
    "    ax[i].set_ylabel(df.columns[-1])\n",
    "    ax[i].scatter(X_test[:, i], y_test, s=7)\n",
    "    ax[i].scatter(X_test[:, i], y_pred, s=4)\n",
    "\n",
    "fig.delaxes(ax[-1])"
   ]
  },
  {
   "cell_type": "code",
   "execution_count": null,
   "id": "f429d408-57a7-400e-acb4-7f3177ccfa53",
   "metadata": {},
   "outputs": [],
   "source": [
    "def r2_score(y_test, y_pred):\n",
    "    RSS = np.sum((y_test - y_pred) ** 2)\n",
    "    TSS = np.sum((y_test - y_pred.mean()) ** 2)\n",
    "    return 1 - RSS / TSS\n",
    "    \n",
    "print(f'r2_score = {r2_score(y_test, y_pred):.4f}')"
   ]
  },
  {
   "cell_type": "code",
   "execution_count": null,
   "id": "b5f37c2d-98f2-478f-a6f0-8b9ccf001f2b",
   "metadata": {},
   "outputs": [],
   "source": [
    "a = torch.tensor([[1, 2], [3, 4]])\n",
    "a = a.transpose(0, 1)\n",
    "a"
   ]
  },
  {
   "cell_type": "code",
   "execution_count": null,
   "id": "2d832236-6090-43b6-8549-968dca135248",
   "metadata": {},
   "outputs": [],
   "source": []
  }
 ],
 "metadata": {
  "kernelspec": {
   "display_name": "Python 3 (ipykernel)",
   "language": "python",
   "name": "python3"
  },
  "language_info": {
   "codemirror_mode": {
    "name": "ipython",
    "version": 3
   },
   "file_extension": ".py",
   "mimetype": "text/x-python",
   "name": "python",
   "nbconvert_exporter": "python",
   "pygments_lexer": "ipython3",
   "version": "3.12.4"
  }
 },
 "nbformat": 4,
 "nbformat_minor": 5
}
